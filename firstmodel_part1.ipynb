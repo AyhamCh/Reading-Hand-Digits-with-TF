{
 "cells": [
  {
   "cell_type": "code",
   "execution_count": 1,
   "id": "adcac293-5f9e-427e-83ff-81ee5e520234",
   "metadata": {},
   "outputs": [
    {
     "name": "stdout",
     "output_type": "stream",
     "text": [
      "Requirement already satisfied: opencv-python in c:\\users\\belai\\anaconda3\\envs\\tf\\lib\\site-packages (4.10.0.84)\n",
      "Requirement already satisfied: numpy>=1.17.0 in c:\\users\\belai\\anaconda3\\envs\\tf\\lib\\site-packages (from opencv-python) (1.24.3)\n"
     ]
    }
   ],
   "source": [
    "!pip install opencv-python\n",
    "import cv2\n",
    "import os\n"
   ]
  },
  {
   "cell_type": "code",
   "execution_count": 2,
   "id": "da153799-8c61-48e9-8032-b0be73b12465",
   "metadata": {},
   "outputs": [],
   "source": [
    "import numpy as np\n",
    "import matplotlib.pyplot as plt\n",
    "import tensorflow as tf"
   ]
  },
  {
   "cell_type": "code",
   "execution_count": 5,
   "id": "7d97778f-db19-4ec6-a492-fd907ded579c",
   "metadata": {},
   "outputs": [],
   "source": [
    "mnist=tf.keras.datasets.mnist"
   ]
  },
  {
   "cell_type": "code",
   "execution_count": 7,
   "id": "54f169ba-9e69-46de-bead-06670dabb02f",
   "metadata": {},
   "outputs": [],
   "source": [
    "(x_train,y_train),(x_test,y_test)=mnist.load_data()\n",
    "x_train = tf.keras.utils.normalize(x_train, axis=1)\n",
    "x_test = tf.keras.utils.normalize(x_test, axis=1)"
   ]
  },
  {
   "cell_type": "markdown",
   "id": "b70e3dbb-68d0-491b-9962-a40c080edae2",
   "metadata": {},
   "source": [
    "model = tf.keras.models.Sequential()"
   ]
  },
  {
   "cell_type": "code",
   "execution_count": 8,
   "id": "236ec81e-575f-413e-8eca-a48e0bf045b7",
   "metadata": {},
   "outputs": [],
   "source": [
    "model = tf.keras.models.Sequential()\n",
    "model.add(tf.keras.layers.Flatten(input_shape=(28,28)))\n",
    "model.add(tf.keras.layers.Dense(128, activation='relu'))\n",
    "model.add(tf.keras.layers.Dense(128, activation='relu'))\n",
    "model.add(tf.keras.layers.Dense(10, activation='softmax'))"
   ]
  },
  {
   "cell_type": "code",
   "execution_count": 9,
   "id": "25cd8154-575a-4fc5-abdd-98f6b7eb1535",
   "metadata": {},
   "outputs": [],
   "source": [
    "model.compile(optimizer='adam', loss='sparse_categorical_crossentropy',metrics=['accuracy'])"
   ]
  },
  {
   "cell_type": "code",
   "execution_count": 10,
   "id": "a411c595-bb65-4378-b755-90f06554dc07",
   "metadata": {},
   "outputs": [],
   "source": [
    "model.fit(x_train,y_train, epochs=3)"
   ]
  },
  {
   "cell_type": "code",
   "execution_count": 11,
   "id": "7999484f-8665-42e9-9460-8e43adbcd90a",
   "metadata": {},
   "outputs": [],
   "source": [
    "model.save('handwrite_recognizer_model')"
   ]
  },
  {
   "cell_type": "code",
   "execution_count": 12,
   "id": "c41b7e2c-f408-4f71-b314-8d5abc621e70",
   "metadata": {},
   "outputs": [],
   "source": [
    "model = tf.keras.models.load_model('handwrite_recognizer_model')"
   ]
  },
  {
   "cell_type": "code",
   "execution_count": 13,
   "id": "b06a9145-0d89-4e77-b9a3-f6fda4ee1e94",
   "metadata": {},
   "outputs": [],
   "source": [
    "loss, accuracy = model.evaluate(x_test, y_test)"
   ]
  },
  {
   "cell_type": "code",
   "execution_count": 14,
   "id": "f1811022-3d5e-4d8c-a9b1-7a39d622787e",
   "metadata": {},
   "outputs": [],
   "source": [
    "print(loss)\n",
    "print(accuracy)"
   ]
  },
  {
   "cell_type": "code",
   "execution_count": null,
   "id": "cc18337c-a857-4c2d-8117-ca74ac48b4d3",
   "metadata": {},
   "outputs": [
    {
     "name": "stdout",
     "output_type": "stream",
     "text": [
      "1/1 [==============================] - 0s 161ms/step\n",
      "This digit is probably a {np.argmax(prediction)}\n"
     ]
    }
   ],
   "source": [
    "image_number=1\n",
    "import os\n",
    "while os.path.isfile(f\"C:/Users/belai/digits/digit{image_number}.png\"):\n",
    "    try:\n",
    "        img = cv2.imread(f\"C:/Users/belai/digits/digit{image_number}.png\")[:,:,0]\n",
    "        img = np.invert(np.array([img]))\n",
    "        prediction = model.predict(img)\n",
    "        print(\"This digit is probably a {np.argmax(prediction)}\")\n",
    "        plt.imshow(img[0],cmap=plt.cm.binary)\n",
    "        plt.show()\n",
    "    except:\n",
    "        print(\"Failed\")\n",
    "    finally:\n",
    "        image_number +=1"
   ]
  },
  {
   "cell_type": "code",
   "execution_count": null,
   "id": "b5fd8cc0-9838-4b11-9b40-b6ddd3bb1ff9",
   "metadata": {},
   "outputs": [],
   "source": []
  }
 ],
 "metadata": {
  "kernelspec": {
   "display_name": "Python 3 (ipykernel)",
   "language": "python",
   "name": "python3"
  },
  "language_info": {
   "codemirror_mode": {
    "name": "ipython",
    "version": 3
   },
   "file_extension": ".py",
   "mimetype": "text/x-python",
   "name": "python",
   "nbconvert_exporter": "python",
   "pygments_lexer": "ipython3",
   "version": "3.8.18"
  }
 },
 "nbformat": 4,
 "nbformat_minor": 5
}
