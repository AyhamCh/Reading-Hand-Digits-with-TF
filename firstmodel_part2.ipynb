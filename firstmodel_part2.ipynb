{
 "cells": [
  {
   "cell_type": "code",
   "execution_count": 1,
   "id": "cbaca6b6-0fa3-461c-b049-f958f2bfbc92",
   "metadata": {},
   "outputs": [
    {
     "name": "stdout",
     "output_type": "stream",
     "text": [
      "Requirement already satisfied: opencv-python in c:\\users\\belai\\anaconda3\\envs\\tf\\lib\\site-packages (4.10.0.84)\n",
      "Requirement already satisfied: numpy>=1.17.0 in c:\\users\\belai\\anaconda3\\envs\\tf\\lib\\site-packages (from opencv-python) (1.24.3)\n",
      "1/1 [==============================] - 0s 332ms/step\n",
      "This digit is probably a {1}\n",
      "1/1 [==============================] - 0s 68ms/step\n",
      "This digit is probably a {2}\n",
      "1/1 [==============================] - 0s 74ms/step\n",
      "This digit is probably a {3}\n",
      "1/1 [==============================] - 0s 63ms/step\n",
      "This digit is probably a {8}\n",
      "1/1 [==============================] - 0s 79ms/step\n",
      "This digit is probably a {5}\n",
      "1/1 [==============================] - 0s 77ms/step\n",
      "This digit is probably a {6}\n",
      "1/1 [==============================] - 0s 63ms/step\n",
      "This digit is probably a {7}\n",
      "1/1 [==============================] - 0s 71ms/step\n",
      "This digit is probably a {3}\n",
      "1/1 [==============================] - 0s 81ms/step\n",
      "This digit is probably a {3}\n"
     ]
    }
   ],
   "source": [
    "!pip install opencv-python\n",
    "import cv2\n",
    "import os\n",
    "import numpy as np\n",
    "import matplotlib.pyplot as plt\n",
    "import tensorflow as tf\n",
    "model = tf.keras.models.load_model('handwrite_recognizer_model')\n",
    "image_number=1\n",
    "import os\n",
    "while os.path.isfile(f\"C:/Users/belai/digits/digit{image_number}.png\"):\n",
    "    try:\n",
    "        img = cv2.imread(f\"C:/Users/belai/digits/digit{image_number}.png\")[:,:,0]\n",
    "        img = np.invert(np.array([img]))\n",
    "        prediction = model.predict(img)\n",
    "        print(\"This digit is probably a\", {np.argmax(prediction)})\n",
    "        \n",
    "    except:\n",
    "        print(\"Failed\")\n",
    "    finally:\n",
    "        image_number +=1"
   ]
  },
  {
   "cell_type": "code",
   "execution_count": null,
   "id": "793ae5bf-44e8-4891-a5ef-0470d72b554a",
   "metadata": {},
   "outputs": [],
   "source": []
  }
 ],
 "metadata": {
  "kernelspec": {
   "display_name": "Python 3 (ipykernel)",
   "language": "python",
   "name": "python3"
  },
  "language_info": {
   "codemirror_mode": {
    "name": "ipython",
    "version": 3
   },
   "file_extension": ".py",
   "mimetype": "text/x-python",
   "name": "python",
   "nbconvert_exporter": "python",
   "pygments_lexer": "ipython3",
   "version": "3.8.18"
  }
 },
 "nbformat": 4,
 "nbformat_minor": 5
}
